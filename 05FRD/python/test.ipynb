{
 "cells": [
  {
   "cell_type": "code",
   "execution_count": 9,
   "metadata": {},
   "outputs": [
    {
     "name": "stdout",
     "output_type": "stream",
     "text": [
      "鼠标点击\n"
     ]
    },
    {
     "ename": "KeyboardInterrupt",
     "evalue": "",
     "output_type": "error",
     "traceback": [
      "\u001b[1;31m---------------------------------------------------------------------------\u001b[0m",
      "\u001b[1;31mKeyboardInterrupt\u001b[0m                         Traceback (most recent call last)",
      "Cell \u001b[1;32mIn[9], line 64\u001b[0m\n\u001b[0;32m     61\u001b[0m     pygame\u001b[39m.\u001b[39mdisplay\u001b[39m.\u001b[39mupdate()\n\u001b[0;32m     63\u001b[0m     \u001b[39m# 控制游戏帧率\u001b[39;00m\n\u001b[1;32m---> 64\u001b[0m     clock\u001b[39m.\u001b[39;49mtick(\u001b[39m60\u001b[39;49m)\n\u001b[0;32m     66\u001b[0m \u001b[39m# 退出Pygame\u001b[39;00m\n\u001b[0;32m     67\u001b[0m pygame\u001b[39m.\u001b[39mquit()\n",
      "\u001b[1;31mKeyboardInterrupt\u001b[0m: "
     ]
    }
   ],
   "source": [
    "import pygame\n",
    "\n",
    "# 初始化Pygame\n",
    "pygame.init()\n",
    "\n",
    "# 设置窗口大小\n",
    "size = (700, 500)\n",
    "screen = pygame.display.set_mode(size)\n",
    "\n",
    "# 设置窗口标题\n",
    "pygame.display.set_caption(\"My Game\")\n",
    "\n",
    "# 创建精灵\n",
    "class MySprite(pygame.sprite.Sprite):\n",
    "    def __init__(self):\n",
    "        super().__init__()\n",
    "        self.image = pygame.Surface([50, 50])\n",
    "        self.image.fill((255, 0, 0))\n",
    "        self.rect = self.image.get_rect()\n",
    "        self.rect.x = 50\n",
    "        self.rect.y = 50\n",
    "\n",
    "# 添加精灵到组中\n",
    "my_group = pygame.sprite.Group()\n",
    "my_sprite = MySprite()\n",
    "my_group.add(my_sprite)\n",
    "\n",
    "# 加载音乐\n",
    "# pygame.mixer.music.load(\"music.mp3\")\n",
    "\n",
    "# 播放音乐\n",
    "# pygame.mixer.music.play(-1)\n",
    "\n",
    "# 创建时钟对象\n",
    "clock = pygame.time.Clock()\n",
    "\n",
    "# 游戏循环\n",
    "done = False\n",
    "while not done:\n",
    "    # 处理事件\n",
    "    for event in pygame.event.get():\n",
    "        if event.type == pygame.QUIT:\n",
    "            done = True\n",
    "        elif event.type == pygame.KEYDOWN:\n",
    "            if event.key == pygame.K_LEFT:\n",
    "                my_sprite.rect.x -= 10\n",
    "            elif event.key == pygame.K_RIGHT:\n",
    "                my_sprite.rect.x += 10\n",
    "            elif event.key ==pygame.K_DOWN:\n",
    "                my_sprite.rect.y -=10    \n",
    "        elif event.type == pygame.MOUSEBUTTONDOWN:\n",
    "            print(\"鼠标点击\")\n",
    "\n",
    "    # 绘制背景\n",
    "    screen.fill((255, 255, 255))\n",
    "\n",
    "    # 绘制精灵\n",
    "    my_group.draw(screen)\n",
    "\n",
    "    # 更新窗口\n",
    "    pygame.display.update()\n",
    "\n",
    "    # 控制游戏帧率\n",
    "    clock.tick(60)\n",
    "\n",
    "# 退出Pygame\n",
    "pygame.quit()"
   ]
  }
 ],
 "metadata": {
  "kernelspec": {
   "display_name": "Python 3",
   "language": "python",
   "name": "python3"
  },
  "language_info": {
   "codemirror_mode": {
    "name": "ipython",
    "version": 3
   },
   "file_extension": ".py",
   "mimetype": "text/x-python",
   "name": "python",
   "nbconvert_exporter": "python",
   "pygments_lexer": "ipython3",
   "version": "3.10.11"
  },
  "orig_nbformat": 4
 },
 "nbformat": 4,
 "nbformat_minor": 2
}
